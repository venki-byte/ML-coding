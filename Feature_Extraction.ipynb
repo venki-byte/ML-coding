{
  "nbformat": 4,
  "nbformat_minor": 0,
  "metadata": {
    "colab": {
      "provenance": []
    },
    "kernelspec": {
      "name": "python3",
      "display_name": "Python 3"
    },
    "language_info": {
      "name": "python"
    }
  },
  "cells": [
    {
      "cell_type": "markdown",
      "source": [
        "#**Feature extraction**\n",
        "the mapping from textual data to real valued vectors is called feature extraction\n",
        "#bag of words(BOW)\n",
        "list of unique words in the text corpus\n",
        "\n",
        "#Term frequency - Inverse Document Frequence(TF-IDF)\n",
        "to count the number of times each word appears in a document.\n",
        "\n",
        "Term frequency - (Number of times term t appears in a document)/(Number of terms in the document)\n",
        "\n",
        "Inverse Document Frequency - log(N/n), where N is the number of documents and n is the number of documents a term t has appeared in.\n",
        "\n",
        "The IDF value of a rare word is high, whereas the Idf of a frequent word is low.\n",
        "\n",
        "#TF - IDF  value of a term = TF * IDF"
      ],
      "metadata": {
        "id": "FsLk-Hl2T433"
      }
    }
  ]
}